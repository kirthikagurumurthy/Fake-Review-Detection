{
 "cells": [
  {
   "cell_type": "code",
   "execution_count": 17,
   "metadata": {},
   "outputs": [],
   "source": [
    "import nltk\n",
    "from nltk.tokenize import treebank\n",
    "import pandas as pd\n",
    "from vaderSentiment.vaderSentiment import SentimentIntensityAnalyzer \n",
    "import math\n",
    "from sklearn.model_selection import train_test_split\n",
    "from nltk.corpus import stopwords\n",
    "from nltk.tokenize import word_tokenize\n",
    "import random"
   ]
  },
  {
   "cell_type": "code",
   "execution_count": 18,
   "metadata": {},
   "outputs": [],
   "source": [
    "stop_words = set(stopwords.words('english'))"
   ]
  },
  {
   "cell_type": "code",
   "execution_count": 19,
   "metadata": {},
   "outputs": [],
   "source": [
    "dataset = pd.read_csv('deceptive-opinion.csv')"
   ]
  },
  {
   "cell_type": "code",
   "execution_count": 20,
   "metadata": {},
   "outputs": [],
   "source": [
    "truthful_prior_log_prob = math.log((list(dataset['deceptive']).count(\"truthful\"))/len(dataset))\n",
    "deceptive_prior_log_prob = math.log((list(dataset['deceptive']).count(\"deceptive\"))/len(dataset))"
   ]
  },
  {
   "cell_type": "code",
   "execution_count": 21,
   "metadata": {},
   "outputs": [],
   "source": [
    "def train_test_split(df,test_size):\n",
    "    if isinstance(test_size,float):\n",
    "        test_size = round(test_size * len(df))\n",
    "        \n",
    "    if(test_size > len(df)):\n",
    "        return 0, df\n",
    "\n",
    "    indices = df.index.tolist()\n",
    "    test_indices = random.sample(population=indices,k = test_size)\n",
    "\n",
    "    test_df = df.loc[test_indices]\n",
    "    train_df = df.drop(test_indices)\n",
    "    \n",
    "    return train_df, test_df\n",
    "train_df,test_df = train_test_split(dataset,0.3)"
   ]
  },
  {
   "cell_type": "code",
   "execution_count": 22,
   "metadata": {},
   "outputs": [
    {
     "data": {
      "text/plain": [
       "['former',\n",
       " 'chicagoan',\n",
       " ',',\n",
       " \"'m\",\n",
       " 'appalled',\n",
       " 'amalfi',\n",
       " 'hotel',\n",
       " 'chicago',\n",
       " '.',\n",
       " 'first',\n",
       " ',',\n",
       " 'expecting',\n",
       " 'luxury',\n",
       " 'hospitality',\n",
       " ',',\n",
       " 'neither',\n",
       " 'received',\n",
       " '.',\n",
       " \"'s\",\n",
       " 'experience',\n",
       " 'designer',\n",
       " 'supposed',\n",
       " 'like',\n",
       " \"'personal\",\n",
       " 'concierge',\n",
       " ',',\n",
       " \"'\",\n",
       " 'experience',\n",
       " 'ed',\n",
       " 'terrible',\n",
       " '.',\n",
       " 'felt',\n",
       " 'like',\n",
       " 'trying',\n",
       " 'pressure',\n",
       " 'staying',\n",
       " 'days',\n",
       " 'wanted',\n",
       " '.',\n",
       " ',',\n",
       " 'could',\n",
       " \"n't\",\n",
       " 'understand',\n",
       " 'saying',\n",
       " 'time',\n",
       " 'talking',\n",
       " 'fast',\n",
       " '.',\n",
       " 'finally',\n",
       " 'got',\n",
       " 'room',\n",
       " ',',\n",
       " 'disappointed',\n",
       " 'quality',\n",
       " 'furniture',\n",
       " 'room',\n",
       " \"'s\",\n",
       " 'cleanliness',\n",
       " '.',\n",
       " 'ask',\n",
       " 'maid',\n",
       " 'come',\n",
       " 'give',\n",
       " 'clean',\n",
       " 'towels',\n",
       " 'towels',\n",
       " 'bathroom',\n",
       " 'damp',\n",
       " '.',\n",
       " 'top',\n",
       " ',',\n",
       " 'bed',\n",
       " 'messily',\n",
       " 'done',\n",
       " ';',\n",
       " 'could',\n",
       " 'done',\n",
       " 'better',\n",
       " 'job',\n",
       " 'bed',\n",
       " 'home',\n",
       " '.',\n",
       " 'angry',\n",
       " 'point',\n",
       " ',',\n",
       " 'paying',\n",
       " 'lot',\n",
       " 'money',\n",
       " 'every',\n",
       " 'night',\n",
       " 'staying',\n",
       " 'amalfi',\n",
       " ',',\n",
       " \"n't\",\n",
       " 'expect',\n",
       " 'greeted',\n",
       " 'wet',\n",
       " 'towels',\n",
       " '.',\n",
       " 'needed',\n",
       " 'use',\n",
       " 'wi-fi',\n",
       " 'download',\n",
       " 'important',\n",
       " 'documents',\n",
       " ',',\n",
       " 'internet',\n",
       " 'surprisingly',\n",
       " 'slow',\n",
       " '.',\n",
       " 'even',\n",
       " 'basic',\n",
       " 'hotel',\n",
       " 'motel',\n",
       " 'could',\n",
       " 'offered',\n",
       " 'better',\n",
       " ',',\n",
       " 'maybe',\n",
       " 'even',\n",
       " 'faster',\n",
       " 'internet',\n",
       " 'access',\n",
       " '.',\n",
       " 'finally',\n",
       " 'checked',\n",
       " 'amalfi',\n",
       " ',',\n",
       " 'made',\n",
       " 'sure',\n",
       " 'supposed',\n",
       " 'personal',\n",
       " 'concierge',\n",
       " 'knew',\n",
       " 'problems',\n",
       " \"'d\",\n",
       " 'room',\n",
       " 'hotel',\n",
       " '.',\n",
       " 'glad',\n",
       " 'see',\n",
       " 'amalfi',\n",
       " 'getting',\n",
       " 'smaller',\n",
       " 'mirror',\n",
       " 'drove',\n",
       " 'away',\n",
       " '!']"
      ]
     },
     "execution_count": 22,
     "metadata": {},
     "output_type": "execute_result"
    }
   ],
   "source": [
    "vocab = {}\n",
    "truthful_token_count = {} #how many occurances of each word for truthful class\n",
    "deceptive_token_count = {}\n",
    "\n",
    "for i in range(len(train_df)):\n",
    "    review = list(train_df['text'])[i]\n",
    "    words = word_tokenize(review)\n",
    "    new_words = []\n",
    "    for word in words:\n",
    "        if word.lower() not in stop_words:\n",
    "            new_words.append(word.lower())\n",
    "    \n",
    "    for word in new_words:\n",
    "        if word not in vocab:\n",
    "            vocab[word] = 1\n",
    "        else:\n",
    "            vocab[word] += 1\n",
    "        if list(train_df['deceptive'])[i] == \"truthful\":\n",
    "            if word not in truthful_token_count:\n",
    "                truthful_token_count[word] = 1\n",
    "            else:\n",
    "                truthful_token_count[word] += 1\n",
    "            if word not in deceptive_token_count:\n",
    "                deceptive_token_count[word] = 0\n",
    "        else:\n",
    "            if word not in deceptive_token_count:\n",
    "                deceptive_token_count[word] = 1\n",
    "            else:\n",
    "                deceptive_token_count[word] += 1\n",
    "            if word not in truthful_token_count:\n",
    "                truthful_token_count[word] = 0\n",
    "new_words"
   ]
  },
  {
   "cell_type": "code",
   "execution_count": 23,
   "metadata": {},
   "outputs": [],
   "source": [
    "def laplace_smoothening(word,c):\n",
    "    if(c):\n",
    "        numerator = truthful_token_count[word] + 1\n",
    "        denominator = sum(truthful_token_count.values()) + len(vocab)\n",
    "        return math.log(numerator/denominator)\n",
    "    else:\n",
    "        numerator = deceptive_token_count[word] + 1\n",
    "        denominator = sum(truthful_token_count.values()) + len(vocab)\n",
    "        return math.log(numerator/denominator)"
   ]
  },
  {
   "cell_type": "code",
   "execution_count": 24,
   "metadata": {},
   "outputs": [],
   "source": [
    "def predict(reviews):\n",
    "    predicted_classes = []\n",
    "    for review in reviews:\n",
    "        \n",
    "        class_scores = [deceptive_prior_log_prob,truthful_prior_log_prob]\n",
    "        words = word_tokenize(review)\n",
    "        for word in words:\n",
    "            if word not in vocab:\n",
    "                continue\n",
    "            \n",
    "            for c in range(2):\n",
    "                log_w_give_c = laplace_smoothening(word,c)\n",
    "                class_scores[c] += log_w_give_c\n",
    "        \n",
    "        predicted_classes.append(class_scores.index(max(class_scores)))  \n",
    "    return predicted_classes"
   ]
  },
  {
   "cell_type": "code",
   "execution_count": 26,
   "metadata": {},
   "outputs": [],
   "source": [
    "def addLabel(value):\n",
    "    if(value == \"truthful\"):\n",
    "        return 1\n",
    "    else:\n",
    "        return 0\n",
    "\n",
    "test_df['label'] = test_df['deceptive'].apply(addLabel)"
   ]
  },
  {
   "cell_type": "code",
   "execution_count": 27,
   "metadata": {},
   "outputs": [],
   "source": [
    "true_classes = list(test_df.label)"
   ]
  },
  {
   "cell_type": "code",
   "execution_count": 28,
   "metadata": {},
   "outputs": [],
   "source": [
    "predicted_classes = predict(test_df.text)"
   ]
  },
  {
   "cell_type": "code",
   "execution_count": 29,
   "metadata": {},
   "outputs": [
    {
     "data": {
      "text/plain": [
       "0.8270833333333333"
      ]
     },
     "execution_count": 29,
     "metadata": {},
     "output_type": "execute_result"
    }
   ],
   "source": [
    "count = 0\n",
    "for i in range(len(true_classes)):\n",
    "    if true_classes[i] == predicted_classes[i]:\n",
    "        count += 1\n",
    "count/len(true_classes)"
   ]
  },
  {
   "cell_type": "code",
   "execution_count": 30,
   "metadata": {},
   "outputs": [],
   "source": [
    "truePositive = trueNegative = falsePositive = falseNegative = 0\n",
    "    "
   ]
  },
  {
   "cell_type": "code",
   "execution_count": 31,
   "metadata": {},
   "outputs": [],
   "source": [
    "for i in range(len(true_classes)):\n",
    "    if(true_classes[i] == predicted_classes[i] == 0):\n",
    "        truePositive += 1\n",
    "    elif true_classes[i] == predicted_classes[i] == 1:\n",
    "        trueNegative += 1\n",
    "    elif true_classes[i] == 1 and predicted_classes[i] == 0:\n",
    "        falsePositive += 1\n",
    "    elif true_classes[i] == 0 and predicted_classes[i] == 1 :\n",
    "        falseNegative += 1"
   ]
  },
  {
   "cell_type": "code",
   "execution_count": 32,
   "metadata": {},
   "outputs": [
    {
     "data": {
      "text/plain": [
       "(0.8270833333333333, 0.8877551020408163, 0.7404255319148936)"
      ]
     },
     "execution_count": 32,
     "metadata": {},
     "output_type": "execute_result"
    }
   ],
   "source": [
    "accuracy = (truePositive + trueNegative)/(truePositive + trueNegative + falsePositive + falseNegative)\n",
    "precision = truePositive/(truePositive + falsePositive)\n",
    "recall =truePositive/(truePositive + falseNegative) \n",
    "\n",
    "accuracy,precision,recall"
   ]
  },
  {
   "cell_type": "code",
   "execution_count": null,
   "metadata": {},
   "outputs": [],
   "source": []
  }
 ],
 "metadata": {
  "kernelspec": {
   "display_name": "Python 3",
   "language": "python",
   "name": "python3"
  },
  "language_info": {
   "codemirror_mode": {
    "name": "ipython",
    "version": 3
   },
   "file_extension": ".py",
   "mimetype": "text/x-python",
   "name": "python",
   "nbconvert_exporter": "python",
   "pygments_lexer": "ipython3",
   "version": "3.7.6"
  }
 },
 "nbformat": 4,
 "nbformat_minor": 4
}
