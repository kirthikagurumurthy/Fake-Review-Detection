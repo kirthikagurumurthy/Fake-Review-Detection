{
 "cells": [
  {
   "cell_type": "code",
   "execution_count": 1,
   "metadata": {},
   "outputs": [],
   "source": [
    "import pandas as pd\n",
    "import numpy as np\n",
    "from nltk.corpus import stopwords\n",
    "from nltk.tokenize import word_tokenize\n",
    "from sklearn.feature_extraction.text import TfidfVectorizer\n",
    "from sklearn.model_selection import train_test_split\n",
    "from sklearn import naive_bayes,svm\n",
    "from sklearn.metrics import roc_auc_score\n",
    "from sklearn.metrics import accuracy_score\n",
    "import string\n",
    "import re\n",
    "from nltk.stem import WordNetLemmatizer\n",
    "#from sklearn.model_selection import train_test_split as tts\n",
    "import numpy as np\n",
    "from sklearn.preprocessing import MinMaxScaler\n",
    "from sklearn.model_selection import train_test_split as tts\n",
    "from sklearn.metrics import accuracy_score, recall_score, precision_score\n",
    "from sklearn.utils import shuffle\n",
    "import statsmodels.api as sm"
   ]
  },
  {
   "cell_type": "code",
   "execution_count": 2,
   "metadata": {},
   "outputs": [
    {
     "ename": "NameError",
     "evalue": "name 'nltk' is not defined",
     "output_type": "error",
     "traceback": [
      "\u001b[1;31m---------------------------------------------------------------------------\u001b[0m",
      "\u001b[1;31mNameError\u001b[0m                                 Traceback (most recent call last)",
      "\u001b[1;32m<ipython-input-2-85bf246ab56e>\u001b[0m in \u001b[0;36m<module>\u001b[1;34m\u001b[0m\n\u001b[0;32m      1\u001b[0m \u001b[0mdf\u001b[0m \u001b[1;33m=\u001b[0m \u001b[0mpd\u001b[0m\u001b[1;33m.\u001b[0m\u001b[0mread_csv\u001b[0m\u001b[1;33m(\u001b[0m\u001b[1;34m'deceptive-opinion.csv'\u001b[0m\u001b[1;33m)\u001b[0m\u001b[1;33m\u001b[0m\u001b[1;33m\u001b[0m\u001b[0m\n\u001b[1;32m----> 2\u001b[1;33m \u001b[0mwn\u001b[0m \u001b[1;33m=\u001b[0m \u001b[0mnltk\u001b[0m\u001b[1;33m.\u001b[0m\u001b[0mWordNetLemmatizer\u001b[0m\u001b[1;33m(\u001b[0m\u001b[1;33m)\u001b[0m\u001b[1;33m\u001b[0m\u001b[1;33m\u001b[0m\u001b[0m\n\u001b[0m",
      "\u001b[1;31mNameError\u001b[0m: name 'nltk' is not defined"
     ]
    }
   ],
   "source": [
    "df = pd.read_csv('deceptive-opinion.csv')\n",
    "wn = nltk.WordNetLemmatizer()"
   ]
  },
  {
   "cell_type": "code",
   "execution_count": null,
   "metadata": {},
   "outputs": [],
   "source": [
    "df"
   ]
  },
  {
   "cell_type": "code",
   "execution_count": 9,
   "metadata": {},
   "outputs": [],
   "source": [
    "stopset = set(stopwords.words('english'))\n",
    "vectorizer = TfidfVectorizer(use_idf=True,lowercase=True,stop_words=stopset)"
   ]
  },
  {
   "cell_type": "code",
   "execution_count": 6,
   "metadata": {},
   "outputs": [],
   "source": [
    "def getLabel(value):\n",
    "    if(value == \"truthful\"):\n",
    "        return 1\n",
    "    else:\n",
    "        return 0\n",
    "\n",
    "df['label'] = df['deceptive'].apply(getLabel)"
   ]
  },
  {
   "cell_type": "code",
   "execution_count": 7,
   "metadata": {},
   "outputs": [],
   "source": [
    "y = df.label"
   ]
  },
  {
   "cell_type": "code",
   "execution_count": 10,
   "metadata": {},
   "outputs": [],
   "source": [
    "x = vectorizer.fit_transform(df.text)"
   ]
  },
  {
   "cell_type": "code",
   "execution_count": 11,
   "metadata": {},
   "outputs": [
    {
     "name": "stdout",
     "output_type": "stream",
     "text": [
      "  (0, 1661)\t0.04014481871591654\n",
      "  (0, 3704)\t0.17603053980291777\n",
      "  (0, 4050)\t0.1809031666406353\n",
      "  (0, 6979)\t0.10193184047464124\n",
      "  (0, 9367)\t0.050166195204930764\n",
      "  (0, 9109)\t0.0926231850633341\n",
      "  (0, 9363)\t0.09979266257142477\n",
      "  (0, 3800)\t0.07086350913967238\n",
      "  (0, 3508)\t0.08231617920319376\n",
      "  (0, 6943)\t0.08218288487942718\n",
      "  (0, 8280)\t0.16519429968810434\n",
      "  (0, 8745)\t0.0764596821276662\n",
      "  (0, 8456)\t0.0901833801823983\n",
      "  (0, 3109)\t0.06502204964729137\n",
      "  (0, 5451)\t0.08761987113628104\n",
      "  (0, 3601)\t0.15338611768047444\n",
      "  (0, 432)\t0.15983128374283492\n",
      "  (0, 4692)\t0.11990545544321767\n",
      "  (0, 3563)\t0.22553616117890932\n",
      "  (0, 152)\t0.20539145474980033\n",
      "  (0, 7657)\t0.11494207993930973\n",
      "  (0, 7379)\t0.05409268938072639\n",
      "  (0, 6385)\t0.14522465368512705\n",
      "  (0, 1292)\t0.08218288487942718\n",
      "  (0, 3447)\t0.19455521463498693\n",
      "  :\t:\n",
      "  (1599, 3418)\t0.05073869457967528\n",
      "  (1599, 2346)\t0.0690021630264471\n",
      "  (1599, 7971)\t0.1092184317994851\n",
      "  (1599, 5084)\t0.07038990880939106\n",
      "  (1599, 9246)\t0.10372093165313302\n",
      "  (1599, 1633)\t0.06481833148544182\n",
      "  (1599, 5021)\t0.07351445689977708\n",
      "  (1599, 902)\t0.06095277523712269\n",
      "  (1599, 6549)\t0.07093776008147673\n",
      "  (1599, 3809)\t0.05017448714430083\n",
      "  (1599, 8506)\t0.044144630021613826\n",
      "  (1599, 5552)\t0.07506265328313524\n",
      "  (1599, 3733)\t0.07752059829795442\n",
      "  (1599, 6419)\t0.07945362206065242\n",
      "  (1599, 1743)\t0.04638190220478149\n",
      "  (1599, 4206)\t0.06599036929713435\n",
      "  (1599, 3391)\t0.1280614729273751\n",
      "  (1599, 1041)\t0.09505536000651295\n",
      "  (1599, 1661)\t0.0283893682986376\n",
      "  (1599, 3109)\t0.0919637937852927\n",
      "  (1599, 7657)\t0.08128403975367181\n",
      "  (1599, 1952)\t0.13418941807173723\n",
      "  (1599, 1009)\t0.0513860025586192\n",
      "  (1599, 7082)\t0.07448072852613391\n",
      "  (1599, 5606)\t0.043788863366007194\n"
     ]
    }
   ],
   "source": [
    "print(x)"
   ]
  },
  {
   "cell_type": "code",
   "execution_count": 12,
   "metadata": {},
   "outputs": [
    {
     "name": "stdout",
     "output_type": "stream",
     "text": [
      "(1600,)\n",
      "(1600, 9432)\n"
     ]
    }
   ],
   "source": [
    "print(y.shape)\n",
    "print(x.shape)"
   ]
  },
  {
   "cell_type": "code",
   "execution_count": 13,
   "metadata": {},
   "outputs": [],
   "source": [
    "x_train, x_test, y_train, y_test = train_test_split(x,y,random_state=42)"
   ]
  },
  {
   "cell_type": "code",
   "execution_count": 26,
   "metadata": {},
   "outputs": [
    {
     "data": {
      "text/plain": [
       "MultinomialNB(alpha=1.0, class_prior=None, fit_prior=True)"
      ]
     },
     "execution_count": 26,
     "metadata": {},
     "output_type": "execute_result"
    }
   ],
   "source": []
  },
  {
   "cell_type": "code",
   "execution_count": 27,
   "metadata": {},
   "outputs": [
    {
     "data": {
      "text/plain": [
       "0.9504053648283455"
      ]
     },
     "execution_count": 27,
     "metadata": {},
     "output_type": "execute_result"
    }
   ],
   "source": []
  },
  {
   "cell_type": "code",
   "execution_count": 29,
   "metadata": {},
   "outputs": [],
   "source": []
  },
  {
   "cell_type": "code",
   "execution_count": 31,
   "metadata": {},
   "outputs": [
    {
     "data": {
      "text/plain": [
       "SVC(C=1.0, break_ties=False, cache_size=200, class_weight=None, coef0=0.0,\n",
       "    decision_function_shape='ovr', degree=3, gamma='auto', kernel='linear',\n",
       "    max_iter=-1, probability=False, random_state=None, shrinking=True,\n",
       "    tol=0.001, verbose=False)"
      ]
     },
     "execution_count": 31,
     "metadata": {},
     "output_type": "execute_result"
    }
   ],
   "source": []
  },
  {
   "cell_type": "code",
   "execution_count": 42,
   "metadata": {},
   "outputs": [
    {
     "data": {
      "text/plain": [
       "0.9504053648283455"
      ]
     },
     "execution_count": 42,
     "metadata": {},
     "output_type": "execute_result"
    }
   ],
   "source": []
  },
  {
   "cell_type": "code",
   "execution_count": 40,
   "metadata": {},
   "outputs": [
    {
     "name": "stdout",
     "output_type": "stream",
     "text": [
      "SVM Accuracy Score ->  88.75\n"
     ]
    }
   ],
   "source": []
  },
  {
   "cell_type": "code",
   "execution_count": 43,
   "metadata": {},
   "outputs": [
    {
     "name": "stdout",
     "output_type": "stream",
     "text": [
      "Naive Accuracy Score ->  88.75\n"
     ]
    }
   ],
   "source": []
  },
  {
   "cell_type": "code",
   "execution_count": null,
   "metadata": {},
   "outputs": [],
   "source": []
  }
 ],
 "metadata": {
  "kernelspec": {
   "display_name": "Python 3",
   "language": "python",
   "name": "python3"
  },
  "language_info": {
   "codemirror_mode": {
    "name": "ipython",
    "version": 3
   },
   "file_extension": ".py",
   "mimetype": "text/x-python",
   "name": "python",
   "nbconvert_exporter": "python",
   "pygments_lexer": "ipython3",
   "version": "3.7.6"
  }
 },
 "nbformat": 4,
 "nbformat_minor": 4
}
