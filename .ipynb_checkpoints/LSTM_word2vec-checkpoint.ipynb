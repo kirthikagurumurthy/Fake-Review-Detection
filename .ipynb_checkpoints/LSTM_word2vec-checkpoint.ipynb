{
 "cells": [
  {
   "cell_type": "code",
   "execution_count": 1,
   "metadata": {},
   "outputs": [
    {
     "name": "stderr",
     "output_type": "stream",
     "text": [
      "[nltk_data] Downloading package stopwords to\n",
      "[nltk_data]     C:\\Users\\KIRHIKAGURUMURTHY\\AppData\\Roaming\\nltk_data..\n",
      "[nltk_data]     .\n",
      "[nltk_data]   Package stopwords is already up-to-date!\n",
      "[nltk_data] Downloading package wordnet to\n",
      "[nltk_data]     C:\\Users\\KIRHIKAGURUMURTHY\\AppData\\Roaming\\nltk_data..\n",
      "[nltk_data]     .\n",
      "[nltk_data]   Package wordnet is already up-to-date!\n"
     ]
    }
   ],
   "source": [
    "import numpy as np \n",
    "import pandas as pd\n",
    "import nltk\n",
    "nltk.download('stopwords')\n",
    "nltk.download('wordnet')\n",
    "from nltk.corpus import stopwords\n",
    "from nltk.classify import SklearnClassifier\n",
    "import matplotlib.pyplot as plt\n",
    "import string\n",
    "import re\n",
    "from collections import Counter\n",
    "from nltk.stem import WordNetLemmatizer\n",
    "from sklearn.feature_extraction.text import TfidfVectorizer\n",
    "from sklearn.feature_selection import SelectKBest\n",
    "from sklearn.feature_selection import f_classif\n",
    "from sklearn.model_selection import train_test_split\n",
    "from sklearn.metrics import confusion_matrix\n",
    "from sklearn.metrics import f1_score\n"
   ]
  },
  {
   "cell_type": "code",
   "execution_count": 2,
   "metadata": {},
   "outputs": [
    {
     "data": {
      "text/html": [
       "<div>\n",
       "<style scoped>\n",
       "    .dataframe tbody tr th:only-of-type {\n",
       "        vertical-align: middle;\n",
       "    }\n",
       "\n",
       "    .dataframe tbody tr th {\n",
       "        vertical-align: top;\n",
       "    }\n",
       "\n",
       "    .dataframe thead th {\n",
       "        text-align: right;\n",
       "    }\n",
       "</style>\n",
       "<table border=\"1\" class=\"dataframe\">\n",
       "  <thead>\n",
       "    <tr style=\"text-align: right;\">\n",
       "      <th></th>\n",
       "      <th>deceptive</th>\n",
       "      <th>hotel</th>\n",
       "      <th>polarity</th>\n",
       "      <th>source</th>\n",
       "      <th>text</th>\n",
       "    </tr>\n",
       "  </thead>\n",
       "  <tbody>\n",
       "    <tr>\n",
       "      <th>0</th>\n",
       "      <td>truthful</td>\n",
       "      <td>conrad</td>\n",
       "      <td>positive</td>\n",
       "      <td>TripAdvisor</td>\n",
       "      <td>We stayed for a one night getaway with family ...</td>\n",
       "    </tr>\n",
       "    <tr>\n",
       "      <th>1</th>\n",
       "      <td>truthful</td>\n",
       "      <td>hyatt</td>\n",
       "      <td>positive</td>\n",
       "      <td>TripAdvisor</td>\n",
       "      <td>Triple A rate with upgrade to view room was le...</td>\n",
       "    </tr>\n",
       "    <tr>\n",
       "      <th>2</th>\n",
       "      <td>truthful</td>\n",
       "      <td>hyatt</td>\n",
       "      <td>positive</td>\n",
       "      <td>TripAdvisor</td>\n",
       "      <td>This comes a little late as I'm finally catchi...</td>\n",
       "    </tr>\n",
       "    <tr>\n",
       "      <th>3</th>\n",
       "      <td>truthful</td>\n",
       "      <td>omni</td>\n",
       "      <td>positive</td>\n",
       "      <td>TripAdvisor</td>\n",
       "      <td>The Omni Chicago really delivers on all fronts...</td>\n",
       "    </tr>\n",
       "    <tr>\n",
       "      <th>4</th>\n",
       "      <td>truthful</td>\n",
       "      <td>hyatt</td>\n",
       "      <td>positive</td>\n",
       "      <td>TripAdvisor</td>\n",
       "      <td>I asked for a high floor away from the elevato...</td>\n",
       "    </tr>\n",
       "    <tr>\n",
       "      <th>...</th>\n",
       "      <td>...</td>\n",
       "      <td>...</td>\n",
       "      <td>...</td>\n",
       "      <td>...</td>\n",
       "      <td>...</td>\n",
       "    </tr>\n",
       "    <tr>\n",
       "      <th>1595</th>\n",
       "      <td>deceptive</td>\n",
       "      <td>intercontinental</td>\n",
       "      <td>negative</td>\n",
       "      <td>MTurk</td>\n",
       "      <td>Problems started when I booked the InterContin...</td>\n",
       "    </tr>\n",
       "    <tr>\n",
       "      <th>1596</th>\n",
       "      <td>deceptive</td>\n",
       "      <td>amalfi</td>\n",
       "      <td>negative</td>\n",
       "      <td>MTurk</td>\n",
       "      <td>The Amalfi Hotel has a beautiful website and i...</td>\n",
       "    </tr>\n",
       "    <tr>\n",
       "      <th>1597</th>\n",
       "      <td>deceptive</td>\n",
       "      <td>intercontinental</td>\n",
       "      <td>negative</td>\n",
       "      <td>MTurk</td>\n",
       "      <td>The Intercontinental Chicago Magnificent Mile ...</td>\n",
       "    </tr>\n",
       "    <tr>\n",
       "      <th>1598</th>\n",
       "      <td>deceptive</td>\n",
       "      <td>palmer</td>\n",
       "      <td>negative</td>\n",
       "      <td>MTurk</td>\n",
       "      <td>The Palmer House Hilton, while it looks good i...</td>\n",
       "    </tr>\n",
       "    <tr>\n",
       "      <th>1599</th>\n",
       "      <td>deceptive</td>\n",
       "      <td>amalfi</td>\n",
       "      <td>negative</td>\n",
       "      <td>MTurk</td>\n",
       "      <td>As a former Chicagoan, I'm appalled at the Ama...</td>\n",
       "    </tr>\n",
       "  </tbody>\n",
       "</table>\n",
       "<p>1600 rows × 5 columns</p>\n",
       "</div>"
      ],
      "text/plain": [
       "      deceptive             hotel  polarity       source  \\\n",
       "0      truthful            conrad  positive  TripAdvisor   \n",
       "1      truthful             hyatt  positive  TripAdvisor   \n",
       "2      truthful             hyatt  positive  TripAdvisor   \n",
       "3      truthful              omni  positive  TripAdvisor   \n",
       "4      truthful             hyatt  positive  TripAdvisor   \n",
       "...         ...               ...       ...          ...   \n",
       "1595  deceptive  intercontinental  negative        MTurk   \n",
       "1596  deceptive            amalfi  negative        MTurk   \n",
       "1597  deceptive  intercontinental  negative        MTurk   \n",
       "1598  deceptive            palmer  negative        MTurk   \n",
       "1599  deceptive            amalfi  negative        MTurk   \n",
       "\n",
       "                                                   text  \n",
       "0     We stayed for a one night getaway with family ...  \n",
       "1     Triple A rate with upgrade to view room was le...  \n",
       "2     This comes a little late as I'm finally catchi...  \n",
       "3     The Omni Chicago really delivers on all fronts...  \n",
       "4     I asked for a high floor away from the elevato...  \n",
       "...                                                 ...  \n",
       "1595  Problems started when I booked the InterContin...  \n",
       "1596  The Amalfi Hotel has a beautiful website and i...  \n",
       "1597  The Intercontinental Chicago Magnificent Mile ...  \n",
       "1598  The Palmer House Hilton, while it looks good i...  \n",
       "1599  As a former Chicagoan, I'm appalled at the Ama...  \n",
       "\n",
       "[1600 rows x 5 columns]"
      ]
     },
     "execution_count": 2,
     "metadata": {},
     "output_type": "execute_result"
    }
   ],
   "source": [
    "df = pd.read_csv('deceptive-opinion.csv')\n",
    "df"
   ]
  },
  {
   "cell_type": "code",
   "execution_count": 3,
   "metadata": {},
   "outputs": [],
   "source": [
    "stopword = nltk.corpus.stopwords.words('english')\n",
    "ps = nltk.PorterStemmer()\n",
    "wn = nltk.WordNetLemmatizer()"
   ]
  },
  {
   "cell_type": "code",
   "execution_count": 4,
   "metadata": {},
   "outputs": [],
   "source": [
    "def clean_text(text):\n",
    "    text_lc = \"\".join([word.lower() for word in text if word not in string.punctuation]) # remove puntuation\n",
    "    text_rc = re.sub('[0-9]+', '', text_lc)\n",
    "    tokens = re.split('\\W+', text_rc)    # tokenization\n",
    "    text = [word for word in tokens if word not in stopword]  # remove stopwords and stemming\n",
    "    return text\n",
    "df['Text_cleaned'] = df['text'].apply(lambda x: clean_text(x))"
   ]
  },
  {
   "cell_type": "code",
   "execution_count": 5,
   "metadata": {},
   "outputs": [
    {
     "data": {
      "text/html": [
       "<div>\n",
       "<style scoped>\n",
       "    .dataframe tbody tr th:only-of-type {\n",
       "        vertical-align: middle;\n",
       "    }\n",
       "\n",
       "    .dataframe tbody tr th {\n",
       "        vertical-align: top;\n",
       "    }\n",
       "\n",
       "    .dataframe thead th {\n",
       "        text-align: right;\n",
       "    }\n",
       "</style>\n",
       "<table border=\"1\" class=\"dataframe\">\n",
       "  <thead>\n",
       "    <tr style=\"text-align: right;\">\n",
       "      <th></th>\n",
       "      <th>deceptive</th>\n",
       "      <th>hotel</th>\n",
       "      <th>polarity</th>\n",
       "      <th>source</th>\n",
       "      <th>text</th>\n",
       "      <th>Text_cleaned</th>\n",
       "      <th>Text_stemmed</th>\n",
       "      <th>Text_lemmatized_stemmed</th>\n",
       "    </tr>\n",
       "  </thead>\n",
       "  <tbody>\n",
       "    <tr>\n",
       "      <th>0</th>\n",
       "      <td>truthful</td>\n",
       "      <td>conrad</td>\n",
       "      <td>positive</td>\n",
       "      <td>TripAdvisor</td>\n",
       "      <td>We stayed for a one night getaway with family ...</td>\n",
       "      <td>[stayed, one, night, getaway, family, thursday...</td>\n",
       "      <td>[stay, one, night, getaway, famili, thursday, ...</td>\n",
       "      <td>[stay, one, night, getaway, famili, thursday, ...</td>\n",
       "    </tr>\n",
       "    <tr>\n",
       "      <th>1</th>\n",
       "      <td>truthful</td>\n",
       "      <td>hyatt</td>\n",
       "      <td>positive</td>\n",
       "      <td>TripAdvisor</td>\n",
       "      <td>Triple A rate with upgrade to view room was le...</td>\n",
       "      <td>[triple, rate, upgrade, view, room, less, also...</td>\n",
       "      <td>[tripl, rate, upgrad, view, room, less, also, ...</td>\n",
       "      <td>[tripl, rate, upgrad, view, room, le, also, in...</td>\n",
       "    </tr>\n",
       "    <tr>\n",
       "      <th>2</th>\n",
       "      <td>truthful</td>\n",
       "      <td>hyatt</td>\n",
       "      <td>positive</td>\n",
       "      <td>TripAdvisor</td>\n",
       "      <td>This comes a little late as I'm finally catchi...</td>\n",
       "      <td>[comes, little, late, im, finally, catching, r...</td>\n",
       "      <td>[come, littl, late, im, final, catch, review, ...</td>\n",
       "      <td>[come, littl, late, im, final, catch, review, ...</td>\n",
       "    </tr>\n",
       "    <tr>\n",
       "      <th>3</th>\n",
       "      <td>truthful</td>\n",
       "      <td>omni</td>\n",
       "      <td>positive</td>\n",
       "      <td>TripAdvisor</td>\n",
       "      <td>The Omni Chicago really delivers on all fronts...</td>\n",
       "      <td>[omni, chicago, really, delivers, fronts, spac...</td>\n",
       "      <td>[omni, chicago, realli, deliv, front, spacious...</td>\n",
       "      <td>[omni, chicago, realli, deliv, front, spacious...</td>\n",
       "    </tr>\n",
       "    <tr>\n",
       "      <th>4</th>\n",
       "      <td>truthful</td>\n",
       "      <td>hyatt</td>\n",
       "      <td>positive</td>\n",
       "      <td>TripAdvisor</td>\n",
       "      <td>I asked for a high floor away from the elevato...</td>\n",
       "      <td>[asked, high, floor, away, elevator, got, room...</td>\n",
       "      <td>[ask, high, floor, away, elev, got, room, plea...</td>\n",
       "      <td>[ask, high, floor, away, elev, got, room, plea...</td>\n",
       "    </tr>\n",
       "  </tbody>\n",
       "</table>\n",
       "</div>"
      ],
      "text/plain": [
       "  deceptive   hotel  polarity       source  \\\n",
       "0  truthful  conrad  positive  TripAdvisor   \n",
       "1  truthful   hyatt  positive  TripAdvisor   \n",
       "2  truthful   hyatt  positive  TripAdvisor   \n",
       "3  truthful    omni  positive  TripAdvisor   \n",
       "4  truthful   hyatt  positive  TripAdvisor   \n",
       "\n",
       "                                                text  \\\n",
       "0  We stayed for a one night getaway with family ...   \n",
       "1  Triple A rate with upgrade to view room was le...   \n",
       "2  This comes a little late as I'm finally catchi...   \n",
       "3  The Omni Chicago really delivers on all fronts...   \n",
       "4  I asked for a high floor away from the elevato...   \n",
       "\n",
       "                                        Text_cleaned  \\\n",
       "0  [stayed, one, night, getaway, family, thursday...   \n",
       "1  [triple, rate, upgrade, view, room, less, also...   \n",
       "2  [comes, little, late, im, finally, catching, r...   \n",
       "3  [omni, chicago, really, delivers, fronts, spac...   \n",
       "4  [asked, high, floor, away, elevator, got, room...   \n",
       "\n",
       "                                        Text_stemmed  \\\n",
       "0  [stay, one, night, getaway, famili, thursday, ...   \n",
       "1  [tripl, rate, upgrad, view, room, less, also, ...   \n",
       "2  [come, littl, late, im, final, catch, review, ...   \n",
       "3  [omni, chicago, realli, deliv, front, spacious...   \n",
       "4  [ask, high, floor, away, elev, got, room, plea...   \n",
       "\n",
       "                             Text_lemmatized_stemmed  \n",
       "0  [stay, one, night, getaway, famili, thursday, ...  \n",
       "1  [tripl, rate, upgrad, view, room, le, also, in...  \n",
       "2  [come, littl, late, im, final, catch, review, ...  \n",
       "3  [omni, chicago, realli, deliv, front, spacious...  \n",
       "4  [ask, high, floor, away, elev, got, room, plea...  "
      ]
     },
     "execution_count": 5,
     "metadata": {},
     "output_type": "execute_result"
    }
   ],
   "source": [
    "def stemming(text):\n",
    "    text = [ps.stem(word) for word in text]\n",
    "    return text\n",
    "\n",
    "df['Text_stemmed'] = df['Text_cleaned'].apply(lambda x: stemming(x))\n",
    "\n",
    "def lemmatizer(text):\n",
    "    text = [wn.lemmatize(word) for word in text]\n",
    "    return text\n",
    "df['Text_lemmatized_stemmed'] = df['Text_stemmed'].apply(lambda x: lemmatizer(x))\n",
    "df.head()\n"
   ]
  },
  {
   "cell_type": "code",
   "execution_count": 6,
   "metadata": {},
   "outputs": [],
   "source": [
    "from sklearn.preprocessing import LabelEncoder \n",
    "from sklearn.preprocessing import OneHotEncoder\n",
    "le = LabelEncoder() \n",
    "df['deceptive']= le.fit_transform(df['deceptive'])\n",
    "df['polarity']= le.fit_transform(df['polarity'])\n",
    "\n"
   ]
  },
  {
   "cell_type": "code",
   "execution_count": 7,
   "metadata": {},
   "outputs": [
    {
     "data": {
      "text/plain": [
       "167     [great, find, downtown, chicago, price, right,...\n",
       "988     [husband, stay, overnight, affinia, prior, rev...\n",
       "682     [hotel, locat, right, hustl, bustl, citi, chic...\n",
       "45      [stay, fairmont, attend, confer, plea, hotel, ...\n",
       "1581    [hotel, allegro, locat, chicago, loop, provid,...\n",
       "                              ...                        \n",
       "1252    [want, star, hotel, star, servic, make, sure, ...\n",
       "1458    [staff, jame, chicago, hotel, seem, determin, ...\n",
       "168     [stay, talbott, twice, last, week, plea, everi...\n",
       "647     [recent, stay, sofitel, chicago, water, tower,...\n",
       "478     [experi, hyatt, regenc, chicago, simpli, amaz,...\n",
       "Name: Text_lemmatized_stemmed, Length: 1280, dtype: object"
      ]
     },
     "execution_count": 7,
     "metadata": {},
     "output_type": "execute_result"
    }
   ],
   "source": [
    "y = df['deceptive']\n",
    "X = df['Text_lemmatized_stemmed']\n",
    "\n",
    "X_train, X_test, y_train, y_test = train_test_split(X, y, test_size=0.2)\n",
    "X_train"
   ]
  },
  {
   "cell_type": "code",
   "execution_count": 14,
   "metadata": {},
   "outputs": [
    {
     "name": "stderr",
     "output_type": "stream",
     "text": [
      "C:\\Users\\KIRHIKAGURUMURTHY\\anaconda3\\lib\\site-packages\\tensorflow\\python\\framework\\dtypes.py:526: FutureWarning: Passing (type, 1) or '1type' as a synonym of type is deprecated; in a future version of numpy, it will be understood as (type, (1,)) / '(1,)type'.\n",
      "  _np_qint8 = np.dtype([(\"qint8\", np.int8, 1)])\n",
      "C:\\Users\\KIRHIKAGURUMURTHY\\anaconda3\\lib\\site-packages\\tensorflow\\python\\framework\\dtypes.py:527: FutureWarning: Passing (type, 1) or '1type' as a synonym of type is deprecated; in a future version of numpy, it will be understood as (type, (1,)) / '(1,)type'.\n",
      "  _np_quint8 = np.dtype([(\"quint8\", np.uint8, 1)])\n",
      "C:\\Users\\KIRHIKAGURUMURTHY\\anaconda3\\lib\\site-packages\\tensorflow\\python\\framework\\dtypes.py:528: FutureWarning: Passing (type, 1) or '1type' as a synonym of type is deprecated; in a future version of numpy, it will be understood as (type, (1,)) / '(1,)type'.\n",
      "  _np_qint16 = np.dtype([(\"qint16\", np.int16, 1)])\n",
      "C:\\Users\\KIRHIKAGURUMURTHY\\anaconda3\\lib\\site-packages\\tensorflow\\python\\framework\\dtypes.py:529: FutureWarning: Passing (type, 1) or '1type' as a synonym of type is deprecated; in a future version of numpy, it will be understood as (type, (1,)) / '(1,)type'.\n",
      "  _np_quint16 = np.dtype([(\"quint16\", np.uint16, 1)])\n",
      "C:\\Users\\KIRHIKAGURUMURTHY\\anaconda3\\lib\\site-packages\\tensorflow\\python\\framework\\dtypes.py:530: FutureWarning: Passing (type, 1) or '1type' as a synonym of type is deprecated; in a future version of numpy, it will be understood as (type, (1,)) / '(1,)type'.\n",
      "  _np_qint32 = np.dtype([(\"qint32\", np.int32, 1)])\n",
      "C:\\Users\\KIRHIKAGURUMURTHY\\anaconda3\\lib\\site-packages\\tensorflow\\python\\framework\\dtypes.py:535: FutureWarning: Passing (type, 1) or '1type' as a synonym of type is deprecated; in a future version of numpy, it will be understood as (type, (1,)) / '(1,)type'.\n",
      "  np_resource = np.dtype([(\"resource\", np.ubyte, 1)])\n"
     ]
    }
   ],
   "source": [
    "from tensorflow.python.keras.preprocessing import sequence\n",
    "from tensorflow.python.keras.preprocessing import text\n",
    "\n",
    "TOP_K = 30000\n",
    "\n",
    "MAX_SEQUENCE_LENGTH = 10000\n",
    "\n",
    "def sequence_vectorize(train_texts, val_texts):\n",
    "    tokenizer = text.Tokenizer(num_words=TOP_K)\n",
    "    tokenizer.fit_on_texts(train_texts)\n",
    "\n",
    "    x_train = tokenizer.texts_to_sequences(train_texts)\n",
    "    x_val = tokenizer.texts_to_sequences(val_texts)\n",
    "\n",
    "    max_length = len(max(x_train, key=len))\n",
    "    if max_length > MAX_SEQUENCE_LENGTH:\n",
    "        max_length = MAX_SEQUENCE_LENGTH\n",
    "\n",
    "    x_train = sequence.pad_sequences(x_train, maxlen=max_length)\n",
    "    x_val = sequence.pad_sequences(x_val, maxlen=max_length)\n",
    "    return x_train, x_val, tokenizer.word_index, max_length"
   ]
  },
  {
   "cell_type": "code",
   "execution_count": 15,
   "metadata": {},
   "outputs": [
    {
     "name": "stderr",
     "output_type": "stream",
     "text": [
      "Using TensorFlow backend.\n"
     ]
    }
   ],
   "source": [
    "from keras.models import Model, Sequential\n",
    "from keras.layers import LSTM, Activation, Dense, Dropout, Input, Embedding\n",
    "from keras.layers.convolutional import Conv1D\n",
    "from keras.layers.convolutional import MaxPooling1D\n",
    "from keras.optimizers import RMSprop\n",
    "from keras.preprocessing.text import Tokenizer\n",
    "from keras.preprocessing import sequence\n",
    "from keras.utils import to_categorical\n",
    "from keras.callbacks import EarlyStopping"
   ]
  },
  {
   "cell_type": "code",
   "execution_count": 22,
   "metadata": {},
   "outputs": [],
   "source": [
    "x_train, x_val = X_train.values, X_test.values\n",
    "x_train, x_val, word_index, max_length = sequence_vectorize(x_train, x_val)\n",
    "num_features = min(len(word_index) + 1, TOP_K)"
   ]
  },
  {
   "cell_type": "code",
   "execution_count": 24,
   "metadata": {},
   "outputs": [
    {
     "name": "stdout",
     "output_type": "stream",
     "text": [
      "WARNING:tensorflow:From C:\\Users\\KIRHIKAGURUMURTHY\\anaconda3\\lib\\site-packages\\tensorflow\\python\\ops\\resource_variable_ops.py:435: colocate_with (from tensorflow.python.framework.ops) is deprecated and will be removed in a future version.\n",
      "Instructions for updating:\n",
      "Colocations handled automatically by placer.\n",
      "WARNING:tensorflow:From C:\\Users\\KIRHIKAGURUMURTHY\\anaconda3\\lib\\site-packages\\tensorflow\\python\\keras\\layers\\core.py:143: calling dropout (from tensorflow.python.ops.nn_ops) with keep_prob is deprecated and will be removed in a future version.\n",
      "Instructions for updating:\n",
      "Please use `rate` instead of `keep_prob`. Rate should be set to `rate = 1 - keep_prob`.\n",
      "Train on 1280 samples, validate on 320 samples\n",
      "WARNING:tensorflow:From C:\\Users\\KIRHIKAGURUMURTHY\\anaconda3\\lib\\site-packages\\tensorflow\\python\\ops\\math_ops.py:3066: to_int32 (from tensorflow.python.ops.math_ops) is deprecated and will be removed in a future version.\n",
      "Instructions for updating:\n",
      "Use tf.cast instead.\n",
      "Epoch 1/5\n",
      "1280/1280 [==============================] - 32s 25ms/sample - loss: 0.6915 - acc: 0.5203 - val_loss: 0.6895 - val_acc: 0.4781\n",
      "Epoch 2/5\n",
      "1280/1280 [==============================] - 30s 24ms/sample - loss: 0.6112 - acc: 0.6773 - val_loss: 0.4072 - val_acc: 0.8438\n",
      "Epoch 3/5\n",
      "1280/1280 [==============================] - 30s 24ms/sample - loss: 0.2999 - acc: 0.8898 - val_loss: 0.3011 - val_acc: 0.8813\n",
      "Epoch 4/5\n",
      "1280/1280 [==============================] - 31s 25ms/sample - loss: 0.1403 - acc: 0.9602 - val_loss: 0.3447 - val_acc: 0.8687\n",
      "Epoch 5/5\n",
      "1280/1280 [==============================] - 31s 24ms/sample - loss: 0.0648 - acc: 0.9828 - val_loss: 0.4265 - val_acc: 0.8562\n"
     ]
    },
    {
     "data": {
      "text/plain": [
       "<tensorflow.python.keras.callbacks.History at 0x21e1a66da88>"
      ]
     },
     "execution_count": 24,
     "metadata": {},
     "output_type": "execute_result"
    }
   ],
   "source": [
    "all_training_words = [word for tokens in tr[\"tokens\"] for word in tokens]\n",
    "training_sentence_lengths = [len(tokens) for tokens in data_train[\"tokens\"]]\n",
    "TRAINING_VOCAB = sorted(list(set(all_training_words)))\n",
    "print(\"%s words total, with a vocabulary size of %s\" % (len(all_training_words), len(TRAINING_VOCAB)))\n",
    "print(\"Max sentence length is %s\" % max(training_sentence_lengths))"
   ]
  },
  {
   "cell_type": "code",
   "execution_count": 25,
   "metadata": {},
   "outputs": [
    {
     "name": "stdout",
     "output_type": "stream",
     "text": [
      "[[132  21]\n",
      " [ 25 142]]\n"
     ]
    },
    {
     "data": {
      "text/plain": [
       "0.8563062072336265"
      ]
     },
     "execution_count": 25,
     "metadata": {},
     "output_type": "execute_result"
    }
   ],
   "source": [
    "y_pred = model.predict(x_val)\n",
    "y_pred = [1 if a > 0.5 else 0 for a in y_pred]\n",
    "\n",
    "print(confusion_matrix(list(y_test), list(y_pred)))\n",
    "\n",
    "f1_score(list(y_test), y_pred, average='weighted')"
   ]
  },
  {
   "cell_type": "code",
   "execution_count": null,
   "metadata": {},
   "outputs": [],
   "source": []
  }
 ],
 "metadata": {
  "kernelspec": {
   "display_name": "Python 3",
   "language": "python",
   "name": "python3"
  },
  "language_info": {
   "codemirror_mode": {
    "name": "ipython",
    "version": 3
   },
   "file_extension": ".py",
   "mimetype": "text/x-python",
   "name": "python",
   "nbconvert_exporter": "python",
   "pygments_lexer": "ipython3",
   "version": "3.7.6"
  }
 },
 "nbformat": 4,
 "nbformat_minor": 4
}
